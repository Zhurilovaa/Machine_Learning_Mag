{
 "cells": [
  {
   "cell_type": "markdown",
   "metadata": {},
   "source": [
    "### Работу выполнила студентка группы 3822М1ПМкн1 Журилова Анастасия"
   ]
  },
  {
   "cell_type": "code",
   "execution_count": 139,
   "metadata": {},
   "outputs": [],
   "source": [
    " # Массивы (матрицы, векторы, линейная алгебра)\n",
    "import numpy as np\n",
    "\n",
    "# Научная графика\n",
    "import matplotlib.pyplot as plt\n",
    "\n",
    "# Таблицы и временные ряды (dataframe, series)\n",
    "import pandas as pd\n",
    "\n",
    " # Еще больше красивой графики для визуализации данных\n",
    "import seaborn as sns\n",
    "\n",
    " # Говорим jupyter'у, чтобы весь графический вывод был в браузере, а не в отдельном окне\n",
    "%matplotlib inline"
   ]
  },
  {
   "cell_type": "markdown",
   "metadata": {},
   "source": [
    "### 0. Описание задачи (постановка задачи)\n",
    "\n",
    " На протяжении многих лет глобальная финансовая компания собирала основные банковские реквизиты своих клиентов. Накопив некоторое количество информации, компания смогла составить кредитные истории каждого клиента. Руководство компании хочет создать интеллектуальную систему для разделения людей по группам кредитных баллов, чтобы сократить ручные усилия сотрудников.\n",
    "\n",
    " Необходимо произвести обработку данных в этой глобальной финансовой компании.\n",
    "\n",
    "Т.е. цель классификации состоит в том, чтобы определить, к какому классу клинетов (признак: Credit_Score) относится тот или иной клиент компании (Poor, Standard, Good). Набор данных содержит обучающие и тестовые данные."
   ]
  },
  {
   "cell_type": "markdown",
   "metadata": {},
   "source": [
    "### 1. Прочитаем данные\n",
    "\n",
    "Выведем таблицу с данным и проанализируем имеющиеся признаки."
   ]
  },
  {
   "cell_type": "code",
   "execution_count": 140,
   "metadata": {},
   "outputs": [
    {
     "name": "stderr",
     "output_type": "stream",
     "text": [
      "C:\\Temp\\ipykernel_9556\\1574723364.py:1: DtypeWarning: Columns (26) have mixed types. Specify dtype option on import or set low_memory=False.\n",
      "  credit_data = pd.read_csv('./data/train.csv')\n"
     ]
    }
   ],
   "source": [
    "credit_data = pd.read_csv('./data/train.csv')"
   ]
  },
  {
   "cell_type": "markdown",
   "metadata": {},
   "source": [
    "Посмотрим размер таблицы:"
   ]
  },
  {
   "cell_type": "code",
   "execution_count": 141,
   "metadata": {},
   "outputs": [
    {
     "data": {
      "text/plain": [
       "(100000, 28)"
      ]
     },
     "execution_count": 141,
     "metadata": {},
     "output_type": "execute_result"
    }
   ],
   "source": [
    "credit_data.shape"
   ]
  },
  {
   "cell_type": "markdown",
   "metadata": {},
   "source": [
    "Количество строк (каждая строка соответствует одному клинету), их 100000, и количество столбцов (каждый столбец соответствует конкретному признаку), их 28.\n",
    "\n",
    "Таблица содержит данные о более 100 тысяч кклинетов компании. У каждого клинета есть ряд признаков: имя, возраст, id, вид занятости, годовой доход и т.д."
   ]
  },
  {
   "cell_type": "markdown",
   "metadata": {},
   "source": [
    "Посмотрим теперь на первые пять строчек таблицы и на последние пять (для наглядности представления данных)."
   ]
  },
  {
   "cell_type": "code",
   "execution_count": 142,
   "metadata": {},
   "outputs": [
    {
     "data": {
      "text/html": [
       "<div>\n",
       "<style scoped>\n",
       "    .dataframe tbody tr th:only-of-type {\n",
       "        vertical-align: middle;\n",
       "    }\n",
       "\n",
       "    .dataframe tbody tr th {\n",
       "        vertical-align: top;\n",
       "    }\n",
       "\n",
       "    .dataframe thead th {\n",
       "        text-align: right;\n",
       "    }\n",
       "</style>\n",
       "<table border=\"1\" class=\"dataframe\">\n",
       "  <thead>\n",
       "    <tr style=\"text-align: right;\">\n",
       "      <th></th>\n",
       "      <th>ID</th>\n",
       "      <th>Customer_ID</th>\n",
       "      <th>Month</th>\n",
       "      <th>Name</th>\n",
       "      <th>Age</th>\n",
       "      <th>SSN</th>\n",
       "      <th>Occupation</th>\n",
       "      <th>Annual_Income</th>\n",
       "      <th>Monthly_Inhand_Salary</th>\n",
       "      <th>Num_Bank_Accounts</th>\n",
       "      <th>...</th>\n",
       "      <th>Credit_Mix</th>\n",
       "      <th>Outstanding_Debt</th>\n",
       "      <th>Credit_Utilization_Ratio</th>\n",
       "      <th>Credit_History_Age</th>\n",
       "      <th>Payment_of_Min_Amount</th>\n",
       "      <th>Total_EMI_per_month</th>\n",
       "      <th>Amount_invested_monthly</th>\n",
       "      <th>Payment_Behaviour</th>\n",
       "      <th>Monthly_Balance</th>\n",
       "      <th>Credit_Score</th>\n",
       "    </tr>\n",
       "  </thead>\n",
       "  <tbody>\n",
       "    <tr>\n",
       "      <th>0</th>\n",
       "      <td>0x1602</td>\n",
       "      <td>CUS_0xd40</td>\n",
       "      <td>January</td>\n",
       "      <td>Aaron Maashoh</td>\n",
       "      <td>23</td>\n",
       "      <td>821-00-0265</td>\n",
       "      <td>Scientist</td>\n",
       "      <td>19114.12</td>\n",
       "      <td>1824.843333</td>\n",
       "      <td>3</td>\n",
       "      <td>...</td>\n",
       "      <td>_</td>\n",
       "      <td>809.98</td>\n",
       "      <td>26.822620</td>\n",
       "      <td>22 Years and 1 Months</td>\n",
       "      <td>No</td>\n",
       "      <td>49.574949</td>\n",
       "      <td>80.41529543900253</td>\n",
       "      <td>High_spent_Small_value_payments</td>\n",
       "      <td>312.49408867943663</td>\n",
       "      <td>Good</td>\n",
       "    </tr>\n",
       "    <tr>\n",
       "      <th>1</th>\n",
       "      <td>0x1603</td>\n",
       "      <td>CUS_0xd40</td>\n",
       "      <td>February</td>\n",
       "      <td>Aaron Maashoh</td>\n",
       "      <td>23</td>\n",
       "      <td>821-00-0265</td>\n",
       "      <td>Scientist</td>\n",
       "      <td>19114.12</td>\n",
       "      <td>NaN</td>\n",
       "      <td>3</td>\n",
       "      <td>...</td>\n",
       "      <td>Good</td>\n",
       "      <td>809.98</td>\n",
       "      <td>31.944960</td>\n",
       "      <td>NaN</td>\n",
       "      <td>No</td>\n",
       "      <td>49.574949</td>\n",
       "      <td>118.28022162236736</td>\n",
       "      <td>Low_spent_Large_value_payments</td>\n",
       "      <td>284.62916249607184</td>\n",
       "      <td>Good</td>\n",
       "    </tr>\n",
       "    <tr>\n",
       "      <th>2</th>\n",
       "      <td>0x1604</td>\n",
       "      <td>CUS_0xd40</td>\n",
       "      <td>March</td>\n",
       "      <td>Aaron Maashoh</td>\n",
       "      <td>-500</td>\n",
       "      <td>821-00-0265</td>\n",
       "      <td>Scientist</td>\n",
       "      <td>19114.12</td>\n",
       "      <td>NaN</td>\n",
       "      <td>3</td>\n",
       "      <td>...</td>\n",
       "      <td>Good</td>\n",
       "      <td>809.98</td>\n",
       "      <td>28.609352</td>\n",
       "      <td>22 Years and 3 Months</td>\n",
       "      <td>No</td>\n",
       "      <td>49.574949</td>\n",
       "      <td>81.699521264648</td>\n",
       "      <td>Low_spent_Medium_value_payments</td>\n",
       "      <td>331.2098628537912</td>\n",
       "      <td>Good</td>\n",
       "    </tr>\n",
       "    <tr>\n",
       "      <th>3</th>\n",
       "      <td>0x1605</td>\n",
       "      <td>CUS_0xd40</td>\n",
       "      <td>April</td>\n",
       "      <td>Aaron Maashoh</td>\n",
       "      <td>23</td>\n",
       "      <td>821-00-0265</td>\n",
       "      <td>Scientist</td>\n",
       "      <td>19114.12</td>\n",
       "      <td>NaN</td>\n",
       "      <td>3</td>\n",
       "      <td>...</td>\n",
       "      <td>Good</td>\n",
       "      <td>809.98</td>\n",
       "      <td>31.377862</td>\n",
       "      <td>22 Years and 4 Months</td>\n",
       "      <td>No</td>\n",
       "      <td>49.574949</td>\n",
       "      <td>199.4580743910713</td>\n",
       "      <td>Low_spent_Small_value_payments</td>\n",
       "      <td>223.45130972736786</td>\n",
       "      <td>Good</td>\n",
       "    </tr>\n",
       "    <tr>\n",
       "      <th>4</th>\n",
       "      <td>0x1606</td>\n",
       "      <td>CUS_0xd40</td>\n",
       "      <td>May</td>\n",
       "      <td>Aaron Maashoh</td>\n",
       "      <td>23</td>\n",
       "      <td>821-00-0265</td>\n",
       "      <td>Scientist</td>\n",
       "      <td>19114.12</td>\n",
       "      <td>1824.843333</td>\n",
       "      <td>3</td>\n",
       "      <td>...</td>\n",
       "      <td>Good</td>\n",
       "      <td>809.98</td>\n",
       "      <td>24.797347</td>\n",
       "      <td>22 Years and 5 Months</td>\n",
       "      <td>No</td>\n",
       "      <td>49.574949</td>\n",
       "      <td>41.420153086217326</td>\n",
       "      <td>High_spent_Medium_value_payments</td>\n",
       "      <td>341.48923103222177</td>\n",
       "      <td>Good</td>\n",
       "    </tr>\n",
       "  </tbody>\n",
       "</table>\n",
       "<p>5 rows × 28 columns</p>\n",
       "</div>"
      ],
      "text/plain": [
       "       ID Customer_ID     Month           Name   Age          SSN Occupation  \\\n",
       "0  0x1602   CUS_0xd40   January  Aaron Maashoh    23  821-00-0265  Scientist   \n",
       "1  0x1603   CUS_0xd40  February  Aaron Maashoh    23  821-00-0265  Scientist   \n",
       "2  0x1604   CUS_0xd40     March  Aaron Maashoh  -500  821-00-0265  Scientist   \n",
       "3  0x1605   CUS_0xd40     April  Aaron Maashoh    23  821-00-0265  Scientist   \n",
       "4  0x1606   CUS_0xd40       May  Aaron Maashoh    23  821-00-0265  Scientist   \n",
       "\n",
       "  Annual_Income  Monthly_Inhand_Salary  Num_Bank_Accounts  ...  Credit_Mix  \\\n",
       "0      19114.12            1824.843333                  3  ...           _   \n",
       "1      19114.12                    NaN                  3  ...        Good   \n",
       "2      19114.12                    NaN                  3  ...        Good   \n",
       "3      19114.12                    NaN                  3  ...        Good   \n",
       "4      19114.12            1824.843333                  3  ...        Good   \n",
       "\n",
       "   Outstanding_Debt Credit_Utilization_Ratio     Credit_History_Age  \\\n",
       "0            809.98                26.822620  22 Years and 1 Months   \n",
       "1            809.98                31.944960                    NaN   \n",
       "2            809.98                28.609352  22 Years and 3 Months   \n",
       "3            809.98                31.377862  22 Years and 4 Months   \n",
       "4            809.98                24.797347  22 Years and 5 Months   \n",
       "\n",
       "   Payment_of_Min_Amount Total_EMI_per_month Amount_invested_monthly  \\\n",
       "0                     No           49.574949       80.41529543900253   \n",
       "1                     No           49.574949      118.28022162236736   \n",
       "2                     No           49.574949         81.699521264648   \n",
       "3                     No           49.574949       199.4580743910713   \n",
       "4                     No           49.574949      41.420153086217326   \n",
       "\n",
       "                  Payment_Behaviour     Monthly_Balance Credit_Score  \n",
       "0   High_spent_Small_value_payments  312.49408867943663         Good  \n",
       "1    Low_spent_Large_value_payments  284.62916249607184         Good  \n",
       "2   Low_spent_Medium_value_payments   331.2098628537912         Good  \n",
       "3    Low_spent_Small_value_payments  223.45130972736786         Good  \n",
       "4  High_spent_Medium_value_payments  341.48923103222177         Good  \n",
       "\n",
       "[5 rows x 28 columns]"
      ]
     },
     "execution_count": 142,
     "metadata": {},
     "output_type": "execute_result"
    }
   ],
   "source": [
    "credit_data.head()"
   ]
  },
  {
   "cell_type": "code",
   "execution_count": 143,
   "metadata": {},
   "outputs": [
    {
     "data": {
      "text/html": [
       "<div>\n",
       "<style scoped>\n",
       "    .dataframe tbody tr th:only-of-type {\n",
       "        vertical-align: middle;\n",
       "    }\n",
       "\n",
       "    .dataframe tbody tr th {\n",
       "        vertical-align: top;\n",
       "    }\n",
       "\n",
       "    .dataframe thead th {\n",
       "        text-align: right;\n",
       "    }\n",
       "</style>\n",
       "<table border=\"1\" class=\"dataframe\">\n",
       "  <thead>\n",
       "    <tr style=\"text-align: right;\">\n",
       "      <th></th>\n",
       "      <th>ID</th>\n",
       "      <th>Customer_ID</th>\n",
       "      <th>Month</th>\n",
       "      <th>Name</th>\n",
       "      <th>Age</th>\n",
       "      <th>SSN</th>\n",
       "      <th>Occupation</th>\n",
       "      <th>Annual_Income</th>\n",
       "      <th>Monthly_Inhand_Salary</th>\n",
       "      <th>Num_Bank_Accounts</th>\n",
       "      <th>...</th>\n",
       "      <th>Credit_Mix</th>\n",
       "      <th>Outstanding_Debt</th>\n",
       "      <th>Credit_Utilization_Ratio</th>\n",
       "      <th>Credit_History_Age</th>\n",
       "      <th>Payment_of_Min_Amount</th>\n",
       "      <th>Total_EMI_per_month</th>\n",
       "      <th>Amount_invested_monthly</th>\n",
       "      <th>Payment_Behaviour</th>\n",
       "      <th>Monthly_Balance</th>\n",
       "      <th>Credit_Score</th>\n",
       "    </tr>\n",
       "  </thead>\n",
       "  <tbody>\n",
       "    <tr>\n",
       "      <th>99995</th>\n",
       "      <td>0x25fe9</td>\n",
       "      <td>CUS_0x942c</td>\n",
       "      <td>April</td>\n",
       "      <td>Nicks</td>\n",
       "      <td>25</td>\n",
       "      <td>078-73-5990</td>\n",
       "      <td>Mechanic</td>\n",
       "      <td>39628.99</td>\n",
       "      <td>3359.415833</td>\n",
       "      <td>4</td>\n",
       "      <td>...</td>\n",
       "      <td>_</td>\n",
       "      <td>502.38</td>\n",
       "      <td>34.663572</td>\n",
       "      <td>31 Years and 6 Months</td>\n",
       "      <td>No</td>\n",
       "      <td>35.104023</td>\n",
       "      <td>60.97133255718485</td>\n",
       "      <td>High_spent_Large_value_payments</td>\n",
       "      <td>479.866228</td>\n",
       "      <td>Poor</td>\n",
       "    </tr>\n",
       "    <tr>\n",
       "      <th>99996</th>\n",
       "      <td>0x25fea</td>\n",
       "      <td>CUS_0x942c</td>\n",
       "      <td>May</td>\n",
       "      <td>Nicks</td>\n",
       "      <td>25</td>\n",
       "      <td>078-73-5990</td>\n",
       "      <td>Mechanic</td>\n",
       "      <td>39628.99</td>\n",
       "      <td>3359.415833</td>\n",
       "      <td>4</td>\n",
       "      <td>...</td>\n",
       "      <td>_</td>\n",
       "      <td>502.38</td>\n",
       "      <td>40.565631</td>\n",
       "      <td>31 Years and 7 Months</td>\n",
       "      <td>No</td>\n",
       "      <td>35.104023</td>\n",
       "      <td>54.18595028760385</td>\n",
       "      <td>High_spent_Medium_value_payments</td>\n",
       "      <td>496.65161</td>\n",
       "      <td>Poor</td>\n",
       "    </tr>\n",
       "    <tr>\n",
       "      <th>99997</th>\n",
       "      <td>0x25feb</td>\n",
       "      <td>CUS_0x942c</td>\n",
       "      <td>June</td>\n",
       "      <td>Nicks</td>\n",
       "      <td>25</td>\n",
       "      <td>078-73-5990</td>\n",
       "      <td>Mechanic</td>\n",
       "      <td>39628.99</td>\n",
       "      <td>3359.415833</td>\n",
       "      <td>4</td>\n",
       "      <td>...</td>\n",
       "      <td>Good</td>\n",
       "      <td>502.38</td>\n",
       "      <td>41.255522</td>\n",
       "      <td>31 Years and 8 Months</td>\n",
       "      <td>No</td>\n",
       "      <td>35.104023</td>\n",
       "      <td>24.02847744864441</td>\n",
       "      <td>High_spent_Large_value_payments</td>\n",
       "      <td>516.809083</td>\n",
       "      <td>Poor</td>\n",
       "    </tr>\n",
       "    <tr>\n",
       "      <th>99998</th>\n",
       "      <td>0x25fec</td>\n",
       "      <td>CUS_0x942c</td>\n",
       "      <td>July</td>\n",
       "      <td>Nicks</td>\n",
       "      <td>25</td>\n",
       "      <td>078-73-5990</td>\n",
       "      <td>Mechanic</td>\n",
       "      <td>39628.99</td>\n",
       "      <td>3359.415833</td>\n",
       "      <td>4</td>\n",
       "      <td>...</td>\n",
       "      <td>Good</td>\n",
       "      <td>502.38</td>\n",
       "      <td>33.638208</td>\n",
       "      <td>31 Years and 9 Months</td>\n",
       "      <td>No</td>\n",
       "      <td>35.104023</td>\n",
       "      <td>251.67258219721603</td>\n",
       "      <td>Low_spent_Large_value_payments</td>\n",
       "      <td>319.164979</td>\n",
       "      <td>Standard</td>\n",
       "    </tr>\n",
       "    <tr>\n",
       "      <th>99999</th>\n",
       "      <td>0x25fed</td>\n",
       "      <td>CUS_0x942c</td>\n",
       "      <td>August</td>\n",
       "      <td>Nicks</td>\n",
       "      <td>25</td>\n",
       "      <td>078-73-5990</td>\n",
       "      <td>Mechanic</td>\n",
       "      <td>39628.99_</td>\n",
       "      <td>3359.415833</td>\n",
       "      <td>4</td>\n",
       "      <td>...</td>\n",
       "      <td>Good</td>\n",
       "      <td>502.38</td>\n",
       "      <td>34.192463</td>\n",
       "      <td>31 Years and 10 Months</td>\n",
       "      <td>No</td>\n",
       "      <td>35.104023</td>\n",
       "      <td>167.1638651610451</td>\n",
       "      <td>!@9#%8</td>\n",
       "      <td>393.673696</td>\n",
       "      <td>Poor</td>\n",
       "    </tr>\n",
       "  </tbody>\n",
       "</table>\n",
       "<p>5 rows × 28 columns</p>\n",
       "</div>"
      ],
      "text/plain": [
       "            ID Customer_ID   Month   Name Age          SSN Occupation  \\\n",
       "99995  0x25fe9  CUS_0x942c   April  Nicks  25  078-73-5990   Mechanic   \n",
       "99996  0x25fea  CUS_0x942c     May  Nicks  25  078-73-5990   Mechanic   \n",
       "99997  0x25feb  CUS_0x942c    June  Nicks  25  078-73-5990   Mechanic   \n",
       "99998  0x25fec  CUS_0x942c    July  Nicks  25  078-73-5990   Mechanic   \n",
       "99999  0x25fed  CUS_0x942c  August  Nicks  25  078-73-5990   Mechanic   \n",
       "\n",
       "      Annual_Income  Monthly_Inhand_Salary  Num_Bank_Accounts  ...  \\\n",
       "99995      39628.99            3359.415833                  4  ...   \n",
       "99996      39628.99            3359.415833                  4  ...   \n",
       "99997      39628.99            3359.415833                  4  ...   \n",
       "99998      39628.99            3359.415833                  4  ...   \n",
       "99999     39628.99_            3359.415833                  4  ...   \n",
       "\n",
       "       Credit_Mix  Outstanding_Debt Credit_Utilization_Ratio  \\\n",
       "99995           _            502.38                34.663572   \n",
       "99996           _            502.38                40.565631   \n",
       "99997        Good            502.38                41.255522   \n",
       "99998        Good            502.38                33.638208   \n",
       "99999        Good            502.38                34.192463   \n",
       "\n",
       "           Credit_History_Age  Payment_of_Min_Amount Total_EMI_per_month  \\\n",
       "99995   31 Years and 6 Months                     No           35.104023   \n",
       "99996   31 Years and 7 Months                     No           35.104023   \n",
       "99997   31 Years and 8 Months                     No           35.104023   \n",
       "99998   31 Years and 9 Months                     No           35.104023   \n",
       "99999  31 Years and 10 Months                     No           35.104023   \n",
       "\n",
       "      Amount_invested_monthly                 Payment_Behaviour  \\\n",
       "99995       60.97133255718485   High_spent_Large_value_payments   \n",
       "99996       54.18595028760385  High_spent_Medium_value_payments   \n",
       "99997       24.02847744864441   High_spent_Large_value_payments   \n",
       "99998      251.67258219721603    Low_spent_Large_value_payments   \n",
       "99999       167.1638651610451                            !@9#%8   \n",
       "\n",
       "      Monthly_Balance Credit_Score  \n",
       "99995      479.866228         Poor  \n",
       "99996       496.65161         Poor  \n",
       "99997      516.809083         Poor  \n",
       "99998      319.164979     Standard  \n",
       "99999      393.673696         Poor  \n",
       "\n",
       "[5 rows x 28 columns]"
      ]
     },
     "execution_count": 143,
     "metadata": {},
     "output_type": "execute_result"
    }
   ],
   "source": [
    "credit_data.tail()"
   ]
  },
  {
   "cell_type": "markdown",
   "metadata": {},
   "source": [
    "Таким образом, объем данных N = 100 000, признаков d = 28, классов K = 3 (признак: Credit_Score).\n",
    "\n",
    "Теперь рассморим все колонки = признаки."
   ]
  },
  {
   "cell_type": "code",
   "execution_count": 144,
   "metadata": {},
   "outputs": [
    {
     "data": {
      "text/plain": [
       "Index(['ID', 'Customer_ID', 'Month', 'Name', 'Age', 'SSN', 'Occupation',\n",
       "       'Annual_Income', 'Monthly_Inhand_Salary', 'Num_Bank_Accounts',\n",
       "       'Num_Credit_Card', 'Interest_Rate', 'Num_of_Loan', 'Type_of_Loan',\n",
       "       'Delay_from_due_date', 'Num_of_Delayed_Payment', 'Changed_Credit_Limit',\n",
       "       'Num_Credit_Inquiries', 'Credit_Mix', 'Outstanding_Debt',\n",
       "       'Credit_Utilization_Ratio', 'Credit_History_Age',\n",
       "       'Payment_of_Min_Amount', 'Total_EMI_per_month',\n",
       "       'Amount_invested_monthly', 'Payment_Behaviour', 'Monthly_Balance',\n",
       "       'Credit_Score'],\n",
       "      dtype='object')"
      ]
     },
     "execution_count": 144,
     "metadata": {},
     "output_type": "execute_result"
    }
   ],
   "source": [
    "credit_data.columns"
   ]
  },
  {
   "cell_type": "markdown",
   "metadata": {},
   "source": [
    "Всего имеется 28 признаков:\n",
    "* **ID** - идентификатор записи в данные (например, с каждого клиента собраны данные за несколько месяцев, каждый месяц - новая запись, следовательно, новый номер);\n",
    "* **Customer_ID** - идентификатор самого клиента в базе данных;\n",
    "* **Month** - месяц записи о клиенте;\n",
    "* **Name** - имя клиента;\n",
    "* **Age** - возраст клиента;\n",
    "* **SSN** - номер социального страхования человека (уникальный девятизначный номер, присваиваемый гражданам и резидентам США);\n",
    "* **Occupation** - вид занятости (работа, должность, специальность);\n",
    "* **Annual_Income** - годовой доход человека;\n",
    "* **Monthly_Inhand_Salary** - заработная плата клиента в месяц;\n",
    "* **Num_Bank_Accounts** - количество банковских счетов, которыми владеет клиент;\n",
    "* **Num_Credit_Card** - количество других кредитных карт у клиента (т.е. есть у клиента еще кредитки, кроме той, по которой собирается информация здесь);\n",
    "* **Interest_Rate** - процентная ставка по кредитной карте;\n",
    "* **Num_of_Loan** - количесвто кредитов, взятых в банке клиентом;\n",
    "* **Type_of_Loan** - виды займов, взятых клиентом в банке (например, у клиента: Auto Loan, Credit-Builder Loan, Personal Loan, and Home Equity Loan);\n",
    "* **Delay_from_due_date** - среднее количество дней задержки с даты платежа;\n",
    "* **Num_of_Delayed_Payment** - среднее количество платежей, задержанных клиентом;\n",
    "* **Changed_Credit_Limit** -  процентное изменение лимита кредитной карты;\n",
    "* **Num_Credit_Inquiries** - количество запросов по кредитной карте клиентом;\n",
    "* **Credit_Mix** - классификацию сочетания кредитов (Standard, Good, Bad);\n",
    "* **Outstanding_Debt** - оставшийся долг, подлежащий выплате (в долларах США);\n",
    "* **Credit_Utilization_Ratio** - коэффициент использования кредитной карты;\n",
    "* **Credit_History_Age** - возраст кредитной истории лица (сколько лет используется кредитный счёт);\n",
    "* **Payment_of_Min_Amount** - была ли выплачена лицом только минимальная сумма (Yes, No, NM);\n",
    "* **Total_EMI_per_month** - ежемесячные платежи EMI (в долларах США, электронные деньги, которые хранятся в электронном виде на электронном носителе);\n",
    "* **Amount_invested_monthly** - ежемесячая сумма, инвестированная клиентом (в долларах США);\n",
    "* **Payment_Behaviour** - платежное поведение клиента (в долларах США, например, High_spent_Small_value_payments);\n",
    "* **Monthly_Balance** - ежемесячная сумма баланса клиента (в долларах США);\n",
    "* **Credit_Score** - кредитнsq рейтинг (Poor, Standard, Good)."
   ]
  },
  {
   "cell_type": "markdown",
   "metadata": {},
   "source": [
    "Выведем тип данных всех столбцов, представленных в таблице:"
   ]
  },
  {
   "cell_type": "code",
   "execution_count": 145,
   "metadata": {},
   "outputs": [
    {
     "data": {
      "text/plain": [
       "ID                           object\n",
       "Customer_ID                  object\n",
       "Month                        object\n",
       "Name                         object\n",
       "Age                          object\n",
       "SSN                          object\n",
       "Occupation                   object\n",
       "Annual_Income                object\n",
       "Monthly_Inhand_Salary       float64\n",
       "Num_Bank_Accounts             int64\n",
       "Num_Credit_Card               int64\n",
       "Interest_Rate                 int64\n",
       "Num_of_Loan                  object\n",
       "Type_of_Loan                 object\n",
       "Delay_from_due_date           int64\n",
       "Num_of_Delayed_Payment       object\n",
       "Changed_Credit_Limit         object\n",
       "Num_Credit_Inquiries        float64\n",
       "Credit_Mix                   object\n",
       "Outstanding_Debt             object\n",
       "Credit_Utilization_Ratio    float64\n",
       "Credit_History_Age           object\n",
       "Payment_of_Min_Amount        object\n",
       "Total_EMI_per_month         float64\n",
       "Amount_invested_monthly      object\n",
       "Payment_Behaviour            object\n",
       "Monthly_Balance              object\n",
       "Credit_Score                 object\n",
       "dtype: object"
      ]
     },
     "execution_count": 145,
     "metadata": {},
     "output_type": "execute_result"
    }
   ],
   "source": [
    "credit_data.dtypes"
   ]
  },
  {
   "cell_type": "markdown",
   "metadata": {},
   "source": [
    "Видим, что 20 признаков имеют тип данных \"Object\". Заменим тип на специальный, предназначенный для хранения категориальных значений (бинарных признаков не наблюдается, поэтому работать нужно только над категориальными). Кроме этого, признаки ID, Customer_ID, Age и енкоторые другие являются типом OBject, гораздо удобнее перевести эти признаки в числовые."
   ]
  },
  {
   "cell_type": "code",
   "execution_count": 146,
   "metadata": {},
   "outputs": [],
   "source": [
    "#приводим id из шестнадцатиричного вида в десятичный\n",
    "credit_data['ID'] = credit_data.ID.apply(lambda x: int(x, 16))\n",
    "credit_data['Customer_ID'] = credit_data.Customer_ID.apply(lambda x: int(x[4:], 16))"
   ]
  },
  {
   "cell_type": "code",
   "execution_count": 147,
   "metadata": {},
   "outputs": [
    {
     "data": {
      "text/plain": [
       "0          5634\n",
       "1          5635\n",
       "2          5636\n",
       "3          5637\n",
       "4          5638\n",
       "          ...  \n",
       "99995    155625\n",
       "99996    155626\n",
       "99997    155627\n",
       "99998    155628\n",
       "99999    155629\n",
       "Name: ID, Length: 100000, dtype: int64"
      ]
     },
     "execution_count": 147,
     "metadata": {},
     "output_type": "execute_result"
    }
   ],
   "source": [
    "credit_data[\"ID\"]"
   ]
  },
  {
   "cell_type": "code",
   "execution_count": 148,
   "metadata": {},
   "outputs": [
    {
     "data": {
      "text/plain": [
       "0         3392\n",
       "1         3392\n",
       "2         3392\n",
       "3         3392\n",
       "4         3392\n",
       "         ...  \n",
       "99995    37932\n",
       "99996    37932\n",
       "99997    37932\n",
       "99998    37932\n",
       "99999    37932\n",
       "Name: Customer_ID, Length: 100000, dtype: int64"
      ]
     },
     "execution_count": 148,
     "metadata": {},
     "output_type": "execute_result"
    }
   ],
   "source": [
    "credit_data[\"Customer_ID\"]"
   ]
  },
  {
   "cell_type": "code",
   "execution_count": 149,
   "metadata": {},
   "outputs": [
    {
     "data": {
      "text/plain": [
       "0         19114.12\n",
       "1         19114.12\n",
       "2         19114.12\n",
       "3         19114.12\n",
       "4         19114.12\n",
       "           ...    \n",
       "99995     39628.99\n",
       "99996     39628.99\n",
       "99997     39628.99\n",
       "99998     39628.99\n",
       "99999    39628.99_\n",
       "Name: Annual_Income, Length: 100000, dtype: object"
      ]
     },
     "execution_count": 149,
     "metadata": {},
     "output_type": "execute_result"
    }
   ],
   "source": [
    "credit_data[\"Annual_Income\"]"
   ]
  },
  {
   "cell_type": "markdown",
   "metadata": {},
   "source": [
    "Теперь приступим непосредственно к переводу в специальный тип категориальных признаков:"
   ]
  },
  {
   "cell_type": "code",
   "execution_count": 150,
   "metadata": {},
   "outputs": [],
   "source": [
    "credit_data[\"Month\"] = credit_data[\"Month\"].astype(\"category\")\n",
    "credit_data[\"Name\"] = credit_data[\"Name\"].astype(\"category\")\n",
    "credit_data[\"SSN\"] = credit_data[\"SSN\"].astype(\"category\")\n",
    "credit_data[\"Occupation\"] = credit_data[\"Occupation\"].astype(\"category\")\n",
    "credit_data[\"Type_of_Loan\"] = credit_data[\"Type_of_Loan\"].astype(\"category\")"
   ]
  },
  {
   "cell_type": "code",
   "execution_count": 151,
   "metadata": {},
   "outputs": [
    {
     "data": {
      "text/plain": [
       "0         January\n",
       "1        February\n",
       "2           March\n",
       "3           April\n",
       "4             May\n",
       "           ...   \n",
       "99995       April\n",
       "99996         May\n",
       "99997        June\n",
       "99998        July\n",
       "99999      August\n",
       "Name: Month, Length: 100000, dtype: category\n",
       "Categories (8, object): ['April', 'August', 'February', 'January', 'July', 'June', 'March', 'May']"
      ]
     },
     "execution_count": 151,
     "metadata": {},
     "output_type": "execute_result"
    }
   ],
   "source": [
    "credit_data[\"Month\"]"
   ]
  },
  {
   "cell_type": "code",
   "execution_count": 152,
   "metadata": {},
   "outputs": [
    {
     "data": {
      "text/plain": [
       "0        Aaron Maashoh\n",
       "1        Aaron Maashoh\n",
       "2        Aaron Maashoh\n",
       "3        Aaron Maashoh\n",
       "4        Aaron Maashoh\n",
       "             ...      \n",
       "99995            Nicks\n",
       "99996            Nicks\n",
       "99997            Nicks\n",
       "99998            Nicks\n",
       "99999            Nicks\n",
       "Name: Name, Length: 100000, dtype: category\n",
       "Categories (10139, object): [' Mattr', ' Mattx', ' Stevei', ' Stevep', ..., 'ty', 'yi', 'yk', 'yv']"
      ]
     },
     "execution_count": 152,
     "metadata": {},
     "output_type": "execute_result"
    }
   ],
   "source": [
    "credit_data[\"Name\"]"
   ]
  },
  {
   "cell_type": "code",
   "execution_count": 153,
   "metadata": {},
   "outputs": [
    {
     "data": {
      "text/plain": [
       "0        821-00-0265\n",
       "1        821-00-0265\n",
       "2        821-00-0265\n",
       "3        821-00-0265\n",
       "4        821-00-0265\n",
       "            ...     \n",
       "99995    078-73-5990\n",
       "99996    078-73-5990\n",
       "99997    078-73-5990\n",
       "99998    078-73-5990\n",
       "99999    078-73-5990\n",
       "Name: SSN, Length: 100000, dtype: category\n",
       "Categories (12501, object): ['#F%$D@*&8', '000-08-1349', '000-40-3312', '000-58-0568', ..., '999-84-9578', '999-92-7186', '999-95-7259', '999-99-3421']"
      ]
     },
     "execution_count": 153,
     "metadata": {},
     "output_type": "execute_result"
    }
   ],
   "source": [
    "credit_data[\"SSN\"]"
   ]
  },
  {
   "cell_type": "code",
   "execution_count": 154,
   "metadata": {},
   "outputs": [
    {
     "data": {
      "text/plain": [
       "0        Scientist\n",
       "1        Scientist\n",
       "2        Scientist\n",
       "3        Scientist\n",
       "4        Scientist\n",
       "           ...    \n",
       "99995     Mechanic\n",
       "99996     Mechanic\n",
       "99997     Mechanic\n",
       "99998     Mechanic\n",
       "99999     Mechanic\n",
       "Name: Occupation, Length: 100000, dtype: category\n",
       "Categories (16, object): ['Accountant', 'Architect', 'Developer', 'Doctor', ..., 'Scientist', 'Teacher', 'Writer', '_______']"
      ]
     },
     "execution_count": 154,
     "metadata": {},
     "output_type": "execute_result"
    }
   ],
   "source": [
    "credit_data[\"Occupation\"]"
   ]
  },
  {
   "cell_type": "code",
   "execution_count": 155,
   "metadata": {},
   "outputs": [
    {
     "data": {
      "text/plain": [
       "0        Auto Loan, Credit-Builder Loan, Personal Loan,...\n",
       "1        Auto Loan, Credit-Builder Loan, Personal Loan,...\n",
       "2        Auto Loan, Credit-Builder Loan, Personal Loan,...\n",
       "3        Auto Loan, Credit-Builder Loan, Personal Loan,...\n",
       "4        Auto Loan, Credit-Builder Loan, Personal Loan,...\n",
       "                               ...                        \n",
       "99995                          Auto Loan, and Student Loan\n",
       "99996                          Auto Loan, and Student Loan\n",
       "99997                          Auto Loan, and Student Loan\n",
       "99998                          Auto Loan, and Student Loan\n",
       "99999                          Auto Loan, and Student Loan\n",
       "Name: Type_of_Loan, Length: 100000, dtype: category\n",
       "Categories (6260, object): ['Auto Loan', 'Auto Loan, Auto Loan, Auto Loan, Auto Loan, C..., 'Auto Loan, Auto Loan, Auto Loan, Auto Loan, S..., 'Auto Loan, Auto Loan, Auto Loan, Credit-Build..., ..., 'Student Loan, and Not Specified', 'Student Loan, and Payday Loan', 'Student Loan, and Personal Loan', 'Student Loan, and Student Loan']"
      ]
     },
     "execution_count": 155,
     "metadata": {},
     "output_type": "execute_result"
    }
   ],
   "source": [
    "credit_data[\"Type_of_Loan\"]"
   ]
  },
  {
   "cell_type": "code",
   "execution_count": null,
   "metadata": {},
   "outputs": [],
   "source": []
  },
  {
   "cell_type": "markdown",
   "metadata": {},
   "source": [
    "Особое внимание следует уделить признаку **Age**, так как он обладает рядом проблем:\n",
    "* некоторые значения заканчиваются на нижнее подчеркивание (наприме, 28_);\n",
    "* необходимо проверить признак на допустимые пределы (т.е. от 1 до 100, можно ужесточить рамки, но для простоты оставим такой промежуток);\n"
   ]
  },
  {
   "cell_type": "markdown",
   "metadata": {},
   "source": [
    "Исправляем нижнее подчеркивание:"
   ]
  },
  {
   "cell_type": "code",
   "execution_count": 156,
   "metadata": {},
   "outputs": [],
   "source": [
    "# исправляем нижнее подчеркивание\n",
    "def AgeUnderscore(row):\n",
    "    lenStr = len(row.Age)\n",
    "    if((issubclass(type(row.Age), str)) and (row.Age[lenStr-1] == '_')):\n",
    "        age = int(row.Age[:lenStr-1])\n",
    "        return age\n",
    "    else:\n",
    "        age = int(row.Age[:lenStr])\n",
    "        return age"
   ]
  },
  {
   "cell_type": "code",
   "execution_count": 157,
   "metadata": {},
   "outputs": [],
   "source": [
    "credit_data['Age'] = credit_data.apply(AgeUnderscore,axis=1)"
   ]
  },
  {
   "cell_type": "code",
   "execution_count": 158,
   "metadata": {},
   "outputs": [
    {
     "data": {
      "text/plain": [
       "0         23\n",
       "1         23\n",
       "2       -500\n",
       "3         23\n",
       "4         23\n",
       "        ... \n",
       "99995     25\n",
       "99996     25\n",
       "99997     25\n",
       "99998     25\n",
       "99999     25\n",
       "Name: Age, Length: 100000, dtype: int64"
      ]
     },
     "execution_count": 158,
     "metadata": {},
     "output_type": "execute_result"
    }
   ],
   "source": [
    "credit_data['Age']"
   ]
  },
  {
   "cell_type": "markdown",
   "metadata": {},
   "source": [
    "Исправляем выход за пределы допустимого возраста;"
   ]
  },
  {
   "cell_type": "code",
   "execution_count": 159,
   "metadata": {},
   "outputs": [],
   "source": [
    "#исправляем выход за пределы допустимого возраста\n",
    "def AgeLimit(row):\n",
    "    if((row.Age >100) or (row.Age < 0)):\n",
    "        return None\n",
    "    else:\n",
    "        return row.Age"
   ]
  },
  {
   "cell_type": "code",
   "execution_count": 160,
   "metadata": {},
   "outputs": [],
   "source": [
    "credit_data['Age'] = credit_data.apply(AgeLimit,axis=1)"
   ]
  },
  {
   "cell_type": "code",
   "execution_count": 161,
   "metadata": {},
   "outputs": [
    {
     "data": {
      "text/plain": [
       "0        23.0\n",
       "1        23.0\n",
       "2         NaN\n",
       "3        23.0\n",
       "4        23.0\n",
       "         ... \n",
       "99995    25.0\n",
       "99996    25.0\n",
       "99997    25.0\n",
       "99998    25.0\n",
       "99999    25.0\n",
       "Name: Age, Length: 100000, dtype: float64"
      ]
     },
     "execution_count": 161,
     "metadata": {},
     "output_type": "execute_result"
    }
   ],
   "source": [
    "credit_data['Age']"
   ]
  },
  {
   "cell_type": "markdown",
   "metadata": {},
   "source": [
    "Нижнее подчеркивание так же имеют данные признака **Annual_Income**, поэтому с ним повторяем схожие действия:"
   ]
  },
  {
   "cell_type": "code",
   "execution_count": 162,
   "metadata": {},
   "outputs": [],
   "source": [
    "def AnnualIncomeUnderscore(row):\n",
    "    x = len(row.Annual_Income)\n",
    "    if((issubclass(type(row.Annual_Income), str)) and (row.Annual_Income[x-1] == '_')):\n",
    "        ic = row.Annual_Income[:x-1]\n",
    "        return ic\n",
    "    elif(issubclass(type(row.Annual_Income), str)):\n",
    "        ic = row.Annual_Income[:x]\n",
    "        return ic\n",
    "    else:\n",
    "        ic = row.Annual_Income\n",
    "        return ic"
   ]
  },
  {
   "cell_type": "code",
   "execution_count": 163,
   "metadata": {},
   "outputs": [
    {
     "data": {
      "text/plain": [
       "0        19114.12\n",
       "1        19114.12\n",
       "2        19114.12\n",
       "3        19114.12\n",
       "4        19114.12\n",
       "           ...   \n",
       "99995    39628.99\n",
       "99996    39628.99\n",
       "99997    39628.99\n",
       "99998    39628.99\n",
       "99999    39628.99\n",
       "Name: Annual_Income, Length: 100000, dtype: object"
      ]
     },
     "execution_count": 163,
     "metadata": {},
     "output_type": "execute_result"
    }
   ],
   "source": [
    "credit_data[\"Annual_Income\"] = credit_data.apply(AnnualIncomeUnderscore,axis=1)\n",
    "credit_data[\"Annual_Income\"]"
   ]
  },
  {
   "cell_type": "code",
   "execution_count": 164,
   "metadata": {},
   "outputs": [
    {
     "data": {
      "text/plain": [
       "0        19114.12\n",
       "1        19114.12\n",
       "2        19114.12\n",
       "3        19114.12\n",
       "4        19114.12\n",
       "           ...   \n",
       "99995    39628.99\n",
       "99996    39628.99\n",
       "99997    39628.99\n",
       "99998    39628.99\n",
       "99999    39628.99\n",
       "Name: Annual_Income, Length: 100000, dtype: float64"
      ]
     },
     "execution_count": 164,
     "metadata": {},
     "output_type": "execute_result"
    }
   ],
   "source": [
    "credit_data[\"Annual_Income\"] = credit_data[\"Annual_Income\"].astype(float)\n",
    "credit_data[\"Annual_Income\"]"
   ]
  },
  {
   "cell_type": "markdown",
   "metadata": {},
   "source": [
    "Повторим действия с **Age** ис признаком **Num_of_Loan**:"
   ]
  },
  {
   "cell_type": "code",
   "execution_count": 165,
   "metadata": {},
   "outputs": [],
   "source": [
    "def NumOfLoanUnderscore(row):\n",
    "    lenStr = len(row.Num_of_Loan)\n",
    "    if((issubclass(type(row.Num_of_Loan), str)) and (row.Num_of_Loan[lenStr-1] == '_')):\n",
    "        age = int(row.Num_of_Loan[:lenStr-1])\n",
    "        return age\n",
    "    else:\n",
    "        age = int(row.Num_of_Loan[:lenStr])\n",
    "        return age"
   ]
  },
  {
   "cell_type": "code",
   "execution_count": 166,
   "metadata": {},
   "outputs": [
    {
     "data": {
      "text/plain": [
       "0        4\n",
       "1        4\n",
       "2        4\n",
       "3        4\n",
       "4        4\n",
       "        ..\n",
       "99995    2\n",
       "99996    2\n",
       "99997    2\n",
       "99998    2\n",
       "99999    2\n",
       "Name: Num_of_Loan, Length: 100000, dtype: int64"
      ]
     },
     "execution_count": 166,
     "metadata": {},
     "output_type": "execute_result"
    }
   ],
   "source": [
    "credit_data[\"Num_of_Loan\"] = credit_data.apply(NumOfLoanUnderscore,axis=1)\n",
    "credit_data[\"Num_of_Loan\"]"
   ]
  },
  {
   "cell_type": "markdown",
   "metadata": {},
   "source": [
    "# ????????????\n",
    "Повторим действия с **Age** ис признаком **Num_of_Delayed_Payment**:"
   ]
  },
  {
   "cell_type": "code",
   "execution_count": 167,
   "metadata": {},
   "outputs": [
    {
     "data": {
      "text/plain": [
       "0          7\n",
       "1        NaN\n",
       "2          7\n",
       "3          4\n",
       "4        NaN\n",
       "        ... \n",
       "99995      7\n",
       "99996      7\n",
       "99997      6\n",
       "99998    NaN\n",
       "99999      6\n",
       "Name: Num_of_Delayed_Payment, Length: 100000, dtype: object"
      ]
     },
     "execution_count": 167,
     "metadata": {},
     "output_type": "execute_result"
    }
   ],
   "source": [
    "credit_data[\"Num_of_Delayed_Payment\"]"
   ]
  },
  {
   "cell_type": "markdown",
   "metadata": {},
   "source": [
    "Changed_Credit_Limit "
   ]
  },
  {
   "cell_type": "code",
   "execution_count": 179,
   "metadata": {},
   "outputs": [
    {
     "data": {
      "text/plain": [
       "0        11.27\n",
       "1        11.27\n",
       "2         0.00\n",
       "3         6.27\n",
       "4        11.27\n",
       "         ...  \n",
       "99995    11.50\n",
       "99996    11.50\n",
       "99997    11.50\n",
       "99998    11.50\n",
       "99999    11.50\n",
       "Name: Changed_Credit_Limit, Length: 100000, dtype: float64"
      ]
     },
     "execution_count": 179,
     "metadata": {},
     "output_type": "execute_result"
    }
   ],
   "source": [
    "from asyncio.windows_events import NULL\n",
    "\n",
    "\n",
    "credit_data['Changed_Credit_Limit'] = credit_data.Changed_Credit_Limit .apply(lambda x: float('NaN') if x =='_' else float(x) )\n",
    "credit_data['Changed_Credit_Limit']"
   ]
  },
  {
   "cell_type": "code",
   "execution_count": 180,
   "metadata": {},
   "outputs": [
    {
     "data": {
      "text/plain": [
       "ID                             int64\n",
       "Customer_ID                    int64\n",
       "Month                       category\n",
       "Name                        category\n",
       "Age                          float64\n",
       "SSN                         category\n",
       "Occupation                  category\n",
       "Annual_Income                float64\n",
       "Monthly_Inhand_Salary        float64\n",
       "Num_Bank_Accounts              int64\n",
       "Num_Credit_Card                int64\n",
       "Interest_Rate                  int64\n",
       "Num_of_Loan                    int64\n",
       "Type_of_Loan                category\n",
       "Delay_from_due_date            int64\n",
       "Num_of_Delayed_Payment        object\n",
       "Changed_Credit_Limit         float64\n",
       "Num_Credit_Inquiries         float64\n",
       "Credit_Mix                    object\n",
       "Outstanding_Debt              object\n",
       "Credit_Utilization_Ratio     float64\n",
       "Credit_History_Age            object\n",
       "Payment_of_Min_Amount         object\n",
       "Total_EMI_per_month          float64\n",
       "Amount_invested_monthly       object\n",
       "Payment_Behaviour             object\n",
       "Monthly_Balance               object\n",
       "Credit_Score                  object\n",
       "dtype: object"
      ]
     },
     "execution_count": 180,
     "metadata": {},
     "output_type": "execute_result"
    }
   ],
   "source": [
    "credit_data.dtypes"
   ]
  }
 ],
 "metadata": {
  "kernelspec": {
   "display_name": "Python 3.9.12",
   "language": "python",
   "name": "python3"
  },
  "language_info": {
   "codemirror_mode": {
    "name": "ipython",
    "version": 3
   },
   "file_extension": ".py",
   "mimetype": "text/x-python",
   "name": "python",
   "nbconvert_exporter": "python",
   "pygments_lexer": "ipython3",
   "version": "3.9.12"
  },
  "orig_nbformat": 4,
  "vscode": {
   "interpreter": {
    "hash": "dedb6ad7a9972407d58623d04bb82c82f904cbb8eb7dc6f53f8127a2d1e06550"
   }
  }
 },
 "nbformat": 4,
 "nbformat_minor": 2
}
